{
  "nbformat": 4,
  "nbformat_minor": 0,
  "metadata": {
    "colab": {
      "name": "Image Captioning.ipynb",
      "provenance": [],
      "collapsed_sections": [],
      "toc_visible": true,
      "authorship_tag": "ABX9TyO/+P1eaCQNdkQ5jZmztwsh"
    },
    "kernelspec": {
      "name": "python3",
      "display_name": "Python 3"
    },
    "accelerator": "GPU"
  },
  "cells": [
    {
      "cell_type": "code",
      "metadata": {
        "id": "oYDPrWMsQc0Q",
        "colab_type": "code",
        "colab": {
          "base_uri": "https://localhost:8080/",
          "height": 34
        },
        "outputId": "8db72864-5f4a-4a25-df72-ed3cae09c5d6"
      },
      "source": [
        "from google.colab import drive\n",
        "drive.mount('/content/drive/')"
      ],
      "execution_count": null,
      "outputs": [
        {
          "output_type": "stream",
          "text": [
            "Drive already mounted at /content/drive/; to attempt to forcibly remount, call drive.mount(\"/content/drive/\", force_remount=True).\n"
          ],
          "name": "stdout"
        }
      ]
    },
    {
      "cell_type": "code",
      "metadata": {
        "id": "ouT2-IyFQvqh",
        "colab_type": "code",
        "colab": {}
      },
      "source": [
        "%tensorflow_version 2.x\n",
        "import tensorflow as tf\n",
        "print(\"Tensorflow version \" + tf.__version__)\n",
        "\n",
        "try:\n",
        "  tpu = tf.distribute.cluster_resolver.TPUClusterResolver()  # TPU detection\n",
        "  print('Running on TPU ', tpu.cluster_spec().as_dict()['worker'])\n",
        "except ValueError:\n",
        "  raise BaseException('ERROR: Not connected to a TPU runtime; please see the previous cell in this notebook for instructions!')\n",
        "\n",
        "tf.config.experimental_connect_to_cluster(tpu)\n",
        "tf.tpu.experimental.initialize_tpu_system(tpu)\n",
        "tpu_strategy = tf.distribute.experimental.TPUStrategy(tpu)"
      ],
      "execution_count": null,
      "outputs": []
    },
    {
      "cell_type": "code",
      "metadata": {
        "id": "kiGFlKXaQt0J",
        "colab_type": "code",
        "colab": {
          "base_uri": "https://localhost:8080/",
          "height": 34
        },
        "outputId": "2ffe710d-2676-4b3d-a77c-a1afb758c4d9"
      },
      "source": [
        "import tensorflow as tf\n",
        "device_name = tf.test.gpu_device_name()\n",
        "if device_name != '/device:GPU:0':\n",
        "  raise SystemError('GPU device not found')\n",
        "print('Found GPU at: {}'.format(device_name))"
      ],
      "execution_count": null,
      "outputs": [
        {
          "output_type": "stream",
          "text": [
            "Found GPU at: /device:GPU:0\n"
          ],
          "name": "stdout"
        }
      ]
    },
    {
      "cell_type": "code",
      "metadata": {
        "id": "YBAu2cPmme2k",
        "colab_type": "code",
        "colab": {
          "base_uri": "https://localhost:8080/",
          "height": 158
        },
        "outputId": "832e42ea-97cf-44c2-f160-314b858a4c6b"
      },
      "source": [
        "!pip install -U keras"
      ],
      "execution_count": null,
      "outputs": [
        {
          "output_type": "stream",
          "text": [
            "Requirement already up-to-date: keras in /usr/local/lib/python3.6/dist-packages (2.3.1)\n",
            "Requirement already satisfied, skipping upgrade: six>=1.9.0 in /usr/local/lib/python3.6/dist-packages (from keras) (1.12.0)\n",
            "Requirement already satisfied, skipping upgrade: keras-preprocessing>=1.0.5 in /usr/local/lib/python3.6/dist-packages (from keras) (1.1.2)\n",
            "Requirement already satisfied, skipping upgrade: scipy>=0.14 in /usr/local/lib/python3.6/dist-packages (from keras) (1.4.1)\n",
            "Requirement already satisfied, skipping upgrade: keras-applications>=1.0.6 in /usr/local/lib/python3.6/dist-packages (from keras) (1.0.8)\n",
            "Requirement already satisfied, skipping upgrade: pyyaml in /usr/local/lib/python3.6/dist-packages (from keras) (3.13)\n",
            "Requirement already satisfied, skipping upgrade: h5py in /usr/local/lib/python3.6/dist-packages (from keras) (2.10.0)\n",
            "Requirement already satisfied, skipping upgrade: numpy>=1.9.1 in /usr/local/lib/python3.6/dist-packages (from keras) (1.18.5)\n"
          ],
          "name": "stdout"
        }
      ]
    },
    {
      "cell_type": "code",
      "metadata": {
        "id": "KNpMUXwGfOsM",
        "colab_type": "code",
        "colab": {
          "base_uri": "https://localhost:8080/",
          "height": 34
        },
        "outputId": "8b507b10-ee6c-440c-dc46-a3d003a1ec1b"
      },
      "source": [
        "import tensorflow as tf\n",
        "import numpy as np\n",
        "from numpy import array\n",
        "import pandas as pd\n",
        "import matplotlib.pyplot as plt\n",
        "#%matplotlib inline\n",
        "import string\n",
        "import os\n",
        "from PIL import Image\n",
        "import glob\n",
        "from pickle import dump, load\n",
        "import pickle\n",
        "from time import time\n",
        "import os\n",
        "\n",
        "from keras.preprocessing import image\n",
        "from keras.layers import Input, Dense, Activation, Dropout, Flatten, Conv2D, MaxPooling2D, AveragePooling2D\n",
        "from keras.models import Model, load_model, model_from_json\n",
        "from keras.applications.inception_v3 import InceptionV3\n",
        "from keras.applications.inception_v3 import preprocess_input\n",
        "\n",
        "from keras.applications.vgg16 import VGG16\n",
        "\n",
        "\n",
        "from keras.models import Sequential, load_model\n",
        "from keras.layers import LSTM, Embedding, TimeDistributed, RepeatVector, Reshape, concatenate, Dropout, BatchNormalization, Bidirectional\n",
        "from keras.optimizers import Adam, RMSprop\n",
        "from keras.layers.merge import add\n",
        "\n",
        "\n",
        "from keras.preprocessing.text import Tokenizer\n",
        "from keras.preprocessing.sequence import pad_sequences\n",
        "from keras.utils import to_categorical"
      ],
      "execution_count": null,
      "outputs": [
        {
          "output_type": "stream",
          "text": [
            "Using TensorFlow backend.\n"
          ],
          "name": "stderr"
        }
      ]
    },
    {
      "cell_type": "code",
      "metadata": {
        "id": "fVw1OsU1-DH0",
        "colab_type": "code",
        "colab": {
          "base_uri": "https://localhost:8080/",
          "height": 34
        },
        "outputId": "527f6326-8849-42de-c0d3-e55254bea701"
      },
      "source": [
        "print(tf.version.VERSION)"
      ],
      "execution_count": null,
      "outputs": [
        {
          "output_type": "stream",
          "text": [
            "2.2.0\n"
          ],
          "name": "stdout"
        }
      ]
    },
    {
      "cell_type": "code",
      "metadata": {
        "id": "p7uhnpy7-Hx8",
        "colab_type": "code",
        "colab": {
          "base_uri": "https://localhost:8080/",
          "height": 87
        },
        "outputId": "14329dbc-ba9b-4b0a-ef8c-41991ff9861d"
      },
      "source": [
        "!pip install pyyaml h5py  # Required to save models in HDF5 format"
      ],
      "execution_count": null,
      "outputs": [
        {
          "output_type": "stream",
          "text": [
            "Requirement already satisfied: pyyaml in /usr/local/lib/python3.6/dist-packages (3.13)\n",
            "Requirement already satisfied: h5py in /usr/local/lib/python3.6/dist-packages (2.10.0)\n",
            "Requirement already satisfied: numpy>=1.7 in /usr/local/lib/python3.6/dist-packages (from h5py) (1.18.5)\n",
            "Requirement already satisfied: six in /usr/local/lib/python3.6/dist-packages (from h5py) (1.12.0)\n"
          ],
          "name": "stdout"
        }
      ]
    },
    {
      "cell_type": "code",
      "metadata": {
        "id": "hpFNnxH7G-4y",
        "colab_type": "code",
        "colab": {}
      },
      "source": [
        "# keras seed fixing\n",
        "from numpy.random import seed\n",
        "seed(42)\n",
        "# tensorflow seed fixin\n",
        "tf.random.set_seed(42)"
      ],
      "execution_count": null,
      "outputs": []
    },
    {
      "cell_type": "markdown",
      "metadata": {
        "id": "fHerx2ruGkaU",
        "colab_type": "text"
      },
      "source": [
        "## **Loading text file and creating dictionary of image names as keys and their descriptions as values**"
      ]
    },
    {
      "cell_type": "code",
      "metadata": {
        "id": "V3NMndCQfjKG",
        "colab_type": "code",
        "colab": {}
      },
      "source": [
        "#filename = 'C:/Users/Arun/Documents/Image Captioning/Flickr8k.token.txt'\n",
        "filename = '/content/drive/My Drive/Image Captioning Data/Text Data/Flickr8k.token.txt'\n",
        "\n",
        "def load_doc(filename):\n",
        "    file = open(filename, 'r')\n",
        "    doc = file.read()\n",
        "    return doc\n",
        "\n",
        "doc = load_doc(filename)"
      ],
      "execution_count": null,
      "outputs": []
    },
    {
      "cell_type": "code",
      "metadata": {
        "id": "nQyga6E7gTAp",
        "colab_type": "code",
        "colab": {}
      },
      "source": [
        "# Creating a dictionary of keys as names of the images and value as caption\n",
        "def load_description(text):\n",
        "    mapping = dict()\n",
        "\n",
        "    for line in text.split('\\n'):\n",
        "    \n",
        "        tokens = line.split()\n",
        "        \n",
        "        if len(line) < 2:\n",
        "            continue\n",
        "    \n",
        "        # take the first token as image id, the rest as description\n",
        "        image_id, image_desc = tokens[0], tokens[1:]\n",
        "    \n",
        "        # extract filename from image id\n",
        "        image_id = image_id.split('.')[0]\n",
        "        \n",
        "        # convert description tokens back to string\n",
        "        image_desc = ' '.join(image_desc)\n",
        "        if image_id not in mapping:\n",
        "            mapping[image_id] = list()\n",
        "            mapping[image_id].append(image_desc)\n",
        "            \n",
        "    return mapping\n",
        "    \n",
        "descriptions = load_description(doc)"
      ],
      "execution_count": null,
      "outputs": []
    },
    {
      "cell_type": "code",
      "metadata": {
        "id": "6JzTgfpWRBWx",
        "colab_type": "code",
        "colab": {}
      },
      "source": [
        "descriptions = dict()\n",
        "for line in doc.split('\\n'):\n",
        "    # split line by white space\n",
        "    tokens = line.split()\n",
        "    \n",
        "    if len(line) < 2:\n",
        "        continue\n",
        "    \n",
        "    # take the first token as image id, the rest as description\n",
        "    image_id, image_desc = tokens[0], tokens[1:]\n",
        "    \n",
        "    # extract filename from image id\n",
        "    image_id = image_id.split('.')[0]\n",
        "    \n",
        "    # convert description tokens back to string\n",
        "    image_desc = ' '.join(image_desc)\n",
        "    if image_id not in descriptions:\n",
        "        descriptions[image_id] = list()\n",
        "    descriptions[image_id].append(image_desc)"
      ],
      "execution_count": null,
      "outputs": []
    },
    {
      "cell_type": "markdown",
      "metadata": {
        "id": "AHXG10sNIZdx",
        "colab_type": "text"
      },
      "source": [
        "# **Data Cleaning - Text**"
      ]
    },
    {
      "cell_type": "code",
      "metadata": {
        "id": "WG0V7ynFREK8",
        "colab_type": "code",
        "colab": {}
      },
      "source": [
        "# prepare translation table for removing punctuation\n",
        "table = str.maketrans('', '', string.punctuation)\n",
        "\n",
        "for key, desc_list in descriptions.items():\n",
        "    for i in range(len(desc_list)):\n",
        "        desc = desc_list[i]\n",
        "        # tokenize\n",
        "        desc = desc.split()\n",
        "        # convert to lower case\n",
        "        desc = [word.lower() for word in desc]\n",
        "        # remove punctuation from each token\n",
        "        desc = [w.translate(table) for w in desc]\n",
        "        # remove hanging 's' and 'a'\n",
        "        desc = [word for word in desc if len(word)>1]\n",
        "        # remove tokens with numbers in them\n",
        "        desc = [word for word in desc if word.isalpha()]\n",
        "        # store as string\n",
        "        desc_list[i] =  ' '.join(desc)"
      ],
      "execution_count": null,
      "outputs": []
    },
    {
      "cell_type": "code",
      "metadata": {
        "id": "BzE6JwE0RNEX",
        "colab_type": "code",
        "colab": {
          "base_uri": "https://localhost:8080/",
          "height": 34
        },
        "outputId": "edacf0d3-e128-462c-ba16-dbdf695003b8"
      },
      "source": [
        "vocabulary = set()\n",
        "for key in descriptions.keys():\n",
        "    [vocabulary.update(d.split()) for d in descriptions[key]]\n",
        "print('Original Vocabulary Size: %d' % len(vocabulary))\n",
        "# 8763"
      ],
      "execution_count": null,
      "outputs": [
        {
          "output_type": "stream",
          "text": [
            "Original Vocabulary Size: 8763\n"
          ],
          "name": "stdout"
        }
      ]
    },
    {
      "cell_type": "markdown",
      "metadata": {
        "id": "jsZXVjb_KQUZ",
        "colab_type": "text"
      },
      "source": [
        "# **Loading clean descriptions for training, dev and test images**"
      ]
    },
    {
      "cell_type": "code",
      "metadata": {
        "id": "gJtjPavNRPfM",
        "colab_type": "code",
        "colab": {}
      },
      "source": [
        "def load_clean_descriptions(filename):\n",
        "\n",
        "  train_doc = load_doc(filename)\n",
        "  train_text = list()\n",
        "\n",
        "  for line in train_doc.split('\\n'):\n",
        "      identifier = line.split('.')[0]\n",
        "      train_text.append(identifier)\n",
        "\n",
        "  train_desc = dict()\n",
        "\n",
        "  for txt in train_text:\n",
        "    \n",
        "      if txt in descriptions:\n",
        "        \n",
        "          if txt not in train_desc:\n",
        "              train_desc[txt] = []\n",
        "            \n",
        "          for desc in descriptions[txt]:\n",
        "              # wrap description in tokens\n",
        "              train_desc[txt].append('sos ' + desc + ' eos')\n",
        "\n",
        "  return train_text, train_desc"
      ],
      "execution_count": null,
      "outputs": []
    },
    {
      "cell_type": "code",
      "metadata": {
        "id": "8HEnptpBRWJP",
        "colab_type": "code",
        "colab": {
          "base_uri": "https://localhost:8080/",
          "height": 34
        },
        "outputId": "8c9170ca-60ad-43df-a175-a2ddcddad721"
      },
      "source": [
        "### Loading training image text file\n",
        "filename = '/content/drive/My Drive/Image Captioning Data/Text Data/Flickr_8k.trainImages.txt'\n",
        "\n",
        "train_text, train_desc = load_clean_descriptions(filename)\n",
        "\n",
        "print('Dataset: %d' % len(train_text))\n",
        "#Dataset: 6001"
      ],
      "execution_count": null,
      "outputs": [
        {
          "output_type": "stream",
          "text": [
            "Dataset: 6001\n"
          ],
          "name": "stdout"
        }
      ]
    },
    {
      "cell_type": "code",
      "metadata": {
        "id": "h6JdU1mVpY6o",
        "colab_type": "code",
        "colab": {}
      },
      "source": [
        "def load_clean_descriptions_test(filename):\n",
        "\n",
        "  train_doc = load_doc(filename)\n",
        "  train_text = list()\n",
        "\n",
        "  for line in train_doc.split('\\n'):\n",
        "      identifier = line.split('.')[0]\n",
        "      train_text.append(identifier)\n",
        "\n",
        "  train_desc = dict()\n",
        "\n",
        "  for txt in train_text:\n",
        "    \n",
        "      if txt in descriptions:\n",
        "        \n",
        "          if txt not in train_desc:\n",
        "              train_desc[txt] = []\n",
        "            \n",
        "          for desc in descriptions[txt]:\n",
        "              # wrap description in tokens\n",
        "              train_desc[txt].append(desc)\n",
        "\n",
        "  return train_text, train_desc"
      ],
      "execution_count": null,
      "outputs": []
    },
    {
      "cell_type": "code",
      "metadata": {
        "id": "P0tUv0sRRbtF",
        "colab_type": "code",
        "colab": {
          "base_uri": "https://localhost:8080/",
          "height": 34
        },
        "outputId": "6633dd35-da08-4906-b54f-d403b312c734"
      },
      "source": [
        "# Loading validation descriptions\n",
        "# Loading val_image text file\n",
        "\n",
        "filename = '/content/drive/My Drive/Image Captioning Data/Text Data/Flickr_8k.devImages.txt'\n",
        "\n",
        "val_text, val_desc = load_clean_descriptions_test(filename)\n",
        "\n",
        "print('Dataset: %d' % len(val_text))"
      ],
      "execution_count": null,
      "outputs": [
        {
          "output_type": "stream",
          "text": [
            "Dataset: 1001\n"
          ],
          "name": "stdout"
        }
      ]
    },
    {
      "cell_type": "code",
      "metadata": {
        "id": "gP0Lev2pRZJj",
        "colab_type": "code",
        "colab": {
          "base_uri": "https://localhost:8080/",
          "height": 34
        },
        "outputId": "7f1b0db6-5891-4a09-910f-a7ba203597d9"
      },
      "source": [
        "# Loading test descriptions\n",
        "# Loading test_image text file\n",
        "filename = '/content/drive/My Drive/Image Captioning Data/Text Data/Flickr_8k.testImages.txt'\n",
        "\n",
        "test_text, test_desc = load_clean_descriptions_test(filename)\n",
        "\n",
        "print('Dataset: %d' % len(test_text))"
      ],
      "execution_count": null,
      "outputs": [
        {
          "output_type": "stream",
          "text": [
            "Dataset: 1001\n"
          ],
          "name": "stdout"
        }
      ]
    },
    {
      "cell_type": "markdown",
      "metadata": {
        "id": "m2Lbm28yjM-9",
        "colab_type": "text"
      },
      "source": [
        "# **Data Preprocessing - Images**"
      ]
    },
    {
      "cell_type": "code",
      "metadata": {
        "id": "swSZaa8JRkAJ",
        "colab_type": "code",
        "colab": {}
      },
      "source": [
        "# Get the InceptionV3 model trained on imagenet data\n",
        "in_layer = Input(shape=(229, 229, 3))\n",
        "inc_model = InceptionV3(weights='imagenet',input_tensor=in_layer)\n",
        "\n",
        "# Remove the last layer (output softmax layer) from the inception v3\n",
        "model_new = Model(inc_model.input, inc_model.layers[-2].output)\n",
        "\n",
        "#inc_model.summary()"
      ],
      "execution_count": null,
      "outputs": []
    },
    {
      "cell_type": "code",
      "metadata": {
        "id": "AznhwoM-sMKo",
        "colab_type": "code",
        "colab": {}
      },
      "source": [
        "# Saving inception model\n",
        "model_new.save('/content/drive/My Drive/Image Captioning Data/Model Weights/inception_weights.h5')"
      ],
      "execution_count": null,
      "outputs": []
    },
    {
      "cell_type": "code",
      "metadata": {
        "id": "VSoHbVuEsk5_",
        "colab_type": "code",
        "colab": {
          "base_uri": "https://localhost:8080/",
          "height": 72
        },
        "outputId": "7a0ccd49-6f84-42fe-e335-acc00280b281"
      },
      "source": [
        "model_inc = load_model('/content/drive/My Drive/Image Captioning Data/Model Weights/inception_weights.h5')"
      ],
      "execution_count": null,
      "outputs": [
        {
          "output_type": "stream",
          "text": [
            "/usr/local/lib/python3.6/dist-packages/keras/engine/saving.py:341: UserWarning: No training configuration found in save file: the model was *not* compiled. Compile it manually.\n",
            "  warnings.warn('No training configuration found in save file: '\n"
          ],
          "name": "stderr"
        }
      ]
    },
    {
      "cell_type": "code",
      "metadata": {
        "id": "XQvrX4MzRo_Y",
        "colab_type": "code",
        "colab": {}
      },
      "source": [
        "### It will take a lot of time to run (approx. 1 - 2 hrs)\n",
        "# extract features from each photo in the directory\n",
        "\n",
        "def extract_features(filepath):\n",
        "    # load the model\n",
        "    in_layer = Input(shape=(229, 229, 3))\n",
        "    inc_model = InceptionV3(weights='imagenet',input_tensor=in_layer)\n",
        "    model_new = Model(inc_model.input, inc_model.layers[-2].output)\n",
        "    #print(model.summary())\n",
        "    # extract features from each photo\n",
        "    file = os.listdir(filepath)\n",
        "    features = dict()\n",
        "    \n",
        "    for name in file:\n",
        "        \n",
        "        img = image.load_img(os.path.join(filepath, name), target_size=(229, 229))\n",
        "        img = image.img_to_array(img)\n",
        "\t\t # reshape data for the model\n",
        "        img = img.reshape((1, img.shape[0], img.shape[1], img.shape[2]))\n",
        "\t\t # prepare the image for the inception model\n",
        "        img = preprocess_input(img)\n",
        "\t\t # get features\n",
        "        feature = model_new.predict(img, verbose=0)\n",
        "        # Reshaping feature from (1, 2048) to (2048, )\n",
        "        feature = np.reshape(feature, feature.shape[1])\n",
        "\t\t # get image id\n",
        "        image_id = name.split('.')[0]\n",
        "\t\t # store feature\n",
        "        features[image_id] = feature\n",
        "        print('>%s' % name)\n",
        "        \n",
        "    return features"
      ],
      "execution_count": null,
      "outputs": []
    },
    {
      "cell_type": "code",
      "metadata": {
        "id": "91t3rF9ARru5",
        "colab_type": "code",
        "colab": {}
      },
      "source": [
        "# extract features from all images\n",
        "directory = '/content/drive/My Drive/Image Captioning Data/Flicker8k_Dataset'\n",
        "features = extract_features(directory)\n",
        "print('Extracted Features: %d' % len(features))"
      ],
      "execution_count": null,
      "outputs": []
    },
    {
      "cell_type": "code",
      "metadata": {
        "id": "6St7EUrgRtTA",
        "colab_type": "code",
        "colab": {}
      },
      "source": [
        "# save to file\n",
        "with open(r\"C:\\Users\\Arun\\Documents\\Image Captioning\\Pickle\\encoded_images.pl\", \"wb\") as encoded_pickle:\n",
        "    pickle.dump(features, encoded_pickle)"
      ],
      "execution_count": null,
      "outputs": []
    },
    {
      "cell_type": "code",
      "metadata": {
        "id": "sTqRNh5HRu-X",
        "colab_type": "code",
        "colab": {
          "base_uri": "https://localhost:8080/",
          "height": 34
        },
        "outputId": "46a07859-10f8-42af-81d2-f2db4c3e7088"
      },
      "source": [
        "features = load(open(\"/content/drive/My Drive/Image Captioning Data/Pickle/encoded_images.pl\", \"rb\"))\n",
        "print('Photos: train=%d' % len(features))\n",
        "# 8091"
      ],
      "execution_count": null,
      "outputs": [
        {
          "output_type": "stream",
          "text": [
            "Photos: train=8091\n"
          ],
          "name": "stdout"
        }
      ]
    },
    {
      "cell_type": "code",
      "metadata": {
        "id": "04ydmy1ORxaP",
        "colab_type": "code",
        "colab": {}
      },
      "source": [
        "# Encoding Train Images\n",
        "\n",
        "encoding_train = {}\n",
        "\n",
        "for train_img in train_desc.keys():\n",
        "\n",
        "    encoding_train[train_img] = features[train_img]\n",
        "\n",
        "# save to file\n",
        "with open(r\"C:\\Users\\Arun\\Documents\\Image Captioning\\Pickle\\train_images_encoded.pl\", \"wb\") as encoded_pickle:\n",
        "    pickle.dump(encoding_train, encoded_pickle)"
      ],
      "execution_count": null,
      "outputs": []
    },
    {
      "cell_type": "code",
      "metadata": {
        "id": "s9MTgXBZRzlp",
        "colab_type": "code",
        "colab": {
          "base_uri": "https://localhost:8080/",
          "height": 34
        },
        "outputId": "d7232f3b-cec3-41e3-e2a8-6704e869750f"
      },
      "source": [
        "train_features = load(open(\"/content/drive/My Drive/Image Captioning Data/Pickle/train_images_encoded.pl\", \"rb\"))\n",
        "print('Photos: train=%d' % len(train_features))\n",
        "# 6000"
      ],
      "execution_count": null,
      "outputs": [
        {
          "output_type": "stream",
          "text": [
            "Photos: train=6000\n"
          ],
          "name": "stdout"
        }
      ]
    },
    {
      "cell_type": "code",
      "metadata": {
        "id": "3demfaxJR1ZX",
        "colab_type": "code",
        "colab": {}
      },
      "source": [
        "# Encoding dev set images\n",
        "\n",
        "encoding_val = {}\n",
        "\n",
        "for val_img in val_desc.keys():\n",
        "\n",
        "    encoding_val[val_img] = features[val_img]\n",
        "\n",
        "with open(r\"/content/drive/My Drive/Image Captioning Data/Pickle/dev_images_encoded.pl\", \"wb\") as encoded_pickle:\n",
        "    pickle.dump(encoding_val, encoded_pickle)"
      ],
      "execution_count": null,
      "outputs": []
    },
    {
      "cell_type": "code",
      "metadata": {
        "id": "eqNDXwzdR3S8",
        "colab_type": "code",
        "colab": {
          "base_uri": "https://localhost:8080/",
          "height": 34
        },
        "outputId": "de235bbf-ab1c-479b-8f72-6e7b91e153fb"
      },
      "source": [
        "# Loading dev images features\n",
        "\n",
        "val_features = load(open(\"/content/drive/My Drive/Image Captioning Data/Pickle/dev_images_encoded.pl\", \"rb\"))\n",
        "print('Photos: dev=%d' % len(val_features))\n",
        "# 1000"
      ],
      "execution_count": null,
      "outputs": [
        {
          "output_type": "stream",
          "text": [
            "Photos: dev=1000\n"
          ],
          "name": "stdout"
        }
      ]
    },
    {
      "cell_type": "code",
      "metadata": {
        "id": "lHPJUARnR6U4",
        "colab_type": "code",
        "colab": {}
      },
      "source": [
        "# Encoding Test Images\n",
        "    \n",
        "encoding_test = {}\n",
        "\n",
        "for test_img in test_desc.keys():\n",
        "\n",
        "    encoding_test[test_img] = features[test_img]"
      ],
      "execution_count": null,
      "outputs": []
    },
    {
      "cell_type": "code",
      "metadata": {
        "id": "HhFrKxIYRd09",
        "colab_type": "code",
        "colab": {
          "base_uri": "https://localhost:8080/",
          "height": 54
        },
        "outputId": "e864a920-189a-48ae-dd10-31242ad381b0"
      },
      "source": [
        "# Create a list of all the training captions\n",
        "all_train_captions = []\n",
        "for key, val in train_desc.items():\n",
        "    for cap in val:\n",
        "        all_train_captions.append(cap)\n",
        "\n",
        "# Consider only words which occur at least 10 times in the corpus\n",
        "'''word_count_threshold = 10\n",
        "word_counts = {}\n",
        "nsents = 0\n",
        "for sent in all_train_captions:\n",
        "    nsents += 1\n",
        "    for w in sent.split(' '):\n",
        "        word_counts[w] = word_counts.get(w, 0) + 1\n",
        "\n",
        "vocab = [w for w in word_counts if word_counts[w] >= word_count_threshold]\n",
        "\n",
        "print('preprocessed words %d ' % len(vocab))\n",
        "print(len(word_counts))'''"
      ],
      "execution_count": null,
      "outputs": [
        {
          "output_type": "execute_result",
          "data": {
            "text/plain": [
              "\"word_count_threshold = 10\\nword_counts = {}\\nnsents = 0\\nfor sent in all_train_captions:\\n    nsents += 1\\n    for w in sent.split(' '):\\n        word_counts[w] = word_counts.get(w, 0) + 1\\n\\nvocab = [w for w in word_counts if word_counts[w] >= word_count_threshold]\\n\\nprint('preprocessed words %d ' % len(vocab))\\nprint(len(word_counts))\""
            ]
          },
          "metadata": {
            "tags": []
          },
          "execution_count": 23
        }
      ]
    },
    {
      "cell_type": "code",
      "metadata": {
        "id": "oNnUEs-VemuO",
        "colab_type": "code",
        "colab": {}
      },
      "source": [
        "words = [i.split() for i in all_train_captions]\n"
      ],
      "execution_count": null,
      "outputs": []
    },
    {
      "cell_type": "code",
      "metadata": {
        "id": "vKZvE-MAetbF",
        "colab_type": "code",
        "colab": {}
      },
      "source": [
        "unique = []\n",
        "for i in words:\n",
        "    unique.extend(i)\n",
        "\n",
        "unique = list(set(unique))"
      ],
      "execution_count": null,
      "outputs": []
    },
    {
      "cell_type": "code",
      "metadata": {
        "id": "GhTa1f-oe5CL",
        "colab_type": "code",
        "colab": {
          "base_uri": "https://localhost:8080/",
          "height": 34
        },
        "outputId": "ef1b6a0a-67f8-4f35-94a1-2f6a83e910cb"
      },
      "source": [
        "len(unique)"
      ],
      "execution_count": null,
      "outputs": [
        {
          "output_type": "execute_result",
          "data": {
            "text/plain": [
              "7578"
            ]
          },
          "metadata": {
            "tags": []
          },
          "execution_count": 26
        }
      ]
    },
    {
      "cell_type": "code",
      "metadata": {
        "id": "z9tnDco7R8kX",
        "colab_type": "code",
        "colab": {
          "base_uri": "https://localhost:8080/",
          "height": 34
        },
        "outputId": "b40cddb3-62cc-4182-83db-72bbd39bd6ef"
      },
      "source": [
        "# Creating index to word and word to index dictionary\n",
        "ix_to_word = {}\n",
        "word_to_ix = {}\n",
        "\n",
        "ix = 1\n",
        "for w in unique:\n",
        "    word_to_ix[w] = ix\n",
        "    ix_to_word[ix] = w\n",
        "    ix += 1\n",
        "    \n",
        "\n",
        "vocab_size = len(ix_to_word) + 1 # one for appended 0's\n",
        "vocab_size"
      ],
      "execution_count": null,
      "outputs": [
        {
          "output_type": "execute_result",
          "data": {
            "text/plain": [
              "7579"
            ]
          },
          "metadata": {
            "tags": []
          },
          "execution_count": 27
        }
      ]
    },
    {
      "cell_type": "code",
      "metadata": {
        "id": "fMNBUX4TfpMO",
        "colab_type": "code",
        "colab": {
          "base_uri": "https://localhost:8080/",
          "height": 34
        },
        "outputId": "c748c672-5fa3-44ed-98f5-403ab47e6435"
      },
      "source": [
        "word_to_ix['sos']"
      ],
      "execution_count": null,
      "outputs": [
        {
          "output_type": "execute_result",
          "data": {
            "text/plain": [
              "4735"
            ]
          },
          "metadata": {
            "tags": []
          },
          "execution_count": 28
        }
      ]
    },
    {
      "cell_type": "code",
      "metadata": {
        "id": "UB_AAF8JSAXl",
        "colab_type": "code",
        "colab": {
          "base_uri": "https://localhost:8080/",
          "height": 34
        },
        "outputId": "62a203b1-3dde-4f1c-a749-0d14069d1838"
      },
      "source": [
        "# convert a dictionary of clean descriptions to a list of descriptions\n",
        "def to_lines(descriptions):\n",
        "\tall_desc = list()\n",
        "\tfor key in descriptions.keys():\n",
        "\t\t[all_desc.append(d) for d in descriptions[key]]\n",
        "\treturn all_desc\n",
        "\n",
        "# calculate the length of the description with the most words\n",
        "def max_length(descriptions):\n",
        "\tlines = to_lines(descriptions)\n",
        "\treturn max(len(d.split()) for d in lines)\n",
        "\n",
        "# determine the maximum sequence length\n",
        "max_length = max_length(train_desc)\n",
        "print('Description Length: %d' % max_length)\n",
        "## max_length = 34\n"
      ],
      "execution_count": null,
      "outputs": [
        {
          "output_type": "stream",
          "text": [
            "Description Length: 34\n"
          ],
          "name": "stdout"
        }
      ]
    },
    {
      "cell_type": "markdown",
      "metadata": {
        "id": "lqAyFhu4l079",
        "colab_type": "text"
      },
      "source": [
        "# **Modelling**"
      ]
    },
    {
      "cell_type": "code",
      "metadata": {
        "id": "_uHEgvYoSCWS",
        "colab_type": "code",
        "colab": {}
      },
      "source": [
        "# data generator, intended to be used in a call to model.fit_generator()\n",
        "def data_generator(descriptions, photos, wordtoix, max_length, num_photos_per_batch):\n",
        "    X1, X2, y = list(), list(), list()\n",
        "    n=0\n",
        "    # loop for ever over images\n",
        "    while 1:\n",
        "        for key, desc_list in descriptions.items():\n",
        "            n+=1\n",
        "            # retrieve the photo feature\n",
        "            photo = photos[key]\n",
        "            for desc in desc_list:\n",
        "                # encode the sequence\n",
        "                seq = [wordtoix[word] for word in desc.split(' ') if word in wordtoix]\n",
        "                # split one sequence into multiple X, y pairs\n",
        "                for i in range(1, len(seq)):\n",
        "                    # split into input and output pair\n",
        "                    in_seq, out_seq = seq[:i], seq[i]\n",
        "                    # pad input sequence\n",
        "                    in_seq = pad_sequences([in_seq], maxlen=max_length)[0]\n",
        "                    # encode output sequence\n",
        "                    out_seq = to_categorical([out_seq], num_classes=vocab_size)[0]\n",
        "                    # store\n",
        "                    X1.append(photo)\n",
        "                    X2.append(in_seq)\n",
        "                    y.append(out_seq)\n",
        "            # yield the batch data\n",
        "            if n==num_photos_per_batch:\n",
        "                yield [[array(X1), array(X2)], array(y)]\n",
        "                X1, X2, y = list(), list(), list()\n",
        "                n=0"
      ],
      "execution_count": null,
      "outputs": []
    },
    {
      "cell_type": "markdown",
      "metadata": {
        "id": "a9K1R3LNmY-O",
        "colab_type": "text"
      },
      "source": [
        "## **Preparing Embedding Matrix**"
      ]
    },
    {
      "cell_type": "code",
      "metadata": {
        "id": "Yh_BebPrSMso",
        "colab_type": "code",
        "colab": {
          "base_uri": "https://localhost:8080/",
          "height": 34
        },
        "outputId": "eaf4d350-295e-4403-ffa5-185fbc9f86c6"
      },
      "source": [
        "# Load Glove vectors\n",
        "glove_dir = \"/content/drive/My Drive/Image Captioning Data/GloVe\"\n",
        "embeddings_index = {} # empty dictionary\n",
        "f = open(os.path.join(glove_dir, 'glove.6B.200d.txt'), encoding=\"utf-8\")\n",
        "\n",
        "for line in f:\n",
        "    values = line.split()\n",
        "    word = values[0]\n",
        "    coefs = np.asarray(values[1:], dtype='float32')\n",
        "    embeddings_index[word] = coefs\n",
        "f.close()\n",
        "\n",
        "print('Found %s word vectors.' % len(embeddings_index))\n",
        "#Found 400000 word vectors."
      ],
      "execution_count": null,
      "outputs": [
        {
          "output_type": "stream",
          "text": [
            "Found 400000 word vectors.\n"
          ],
          "name": "stdout"
        }
      ]
    },
    {
      "cell_type": "code",
      "metadata": {
        "id": "XMxPum1WST3B",
        "colab_type": "code",
        "colab": {}
      },
      "source": [
        "embedding_dim = 200\n",
        "\n",
        "# Get 200-dim dense vector for each of the 10000 words in out vocabulary\n",
        "embedding_matrix = np.zeros((vocab_size, embedding_dim))\n",
        "\n",
        "for word, i in word_to_ix.items():\n",
        "    #if i < max_words:\n",
        "    embedding_vector = embeddings_index.get(word)\n",
        "    if embedding_vector is not None:\n",
        "        # Words not found in the embedding index will be all zeros\n",
        "        embedding_matrix[i] = embedding_vector"
      ],
      "execution_count": null,
      "outputs": []
    },
    {
      "cell_type": "code",
      "metadata": {
        "id": "B2PJRZj_f624",
        "colab_type": "code",
        "colab": {
          "base_uri": "https://localhost:8080/",
          "height": 34
        },
        "outputId": "d287197a-a9cd-42d6-8ef2-b262b2eb9ca7"
      },
      "source": [
        "embedding_matrix.shape"
      ],
      "execution_count": null,
      "outputs": [
        {
          "output_type": "execute_result",
          "data": {
            "text/plain": [
              "(7579, 200)"
            ]
          },
          "metadata": {
            "tags": []
          },
          "execution_count": 33
        }
      ]
    },
    {
      "cell_type": "markdown",
      "metadata": {
        "id": "wWYrIN_hndgJ",
        "colab_type": "text"
      },
      "source": [
        "## **Preparing 'Model' to train**"
      ]
    },
    {
      "cell_type": "code",
      "metadata": {
        "id": "d7-GRajNSaEu",
        "colab_type": "code",
        "colab": {}
      },
      "source": [
        "def create_model():\n",
        "\n",
        "  inputs1 = Input(shape=(2048,))\n",
        "  fe1 = Dropout(0.8)(inputs1)\n",
        "  fe3 = Dense(256, activation='relu')(fe1)\n",
        "  inputs2 = Input(shape=(max_length,))\n",
        "  se1 = Embedding(vocab_size, embedding_dim, mask_zero=True)(inputs2)\n",
        "  se2 = Dropout(0.8)(se1)\n",
        "  se4 = LSTM(256)(se2)\n",
        "  decoder1 = add([fe3, se4])\n",
        "  decoder2 = Dense(256, activation='relu')(decoder1)\n",
        "  outputs = Dense(vocab_size, activation='softmax')(decoder2)\n",
        "  model = Model(inputs=[inputs1, inputs2], outputs=outputs)\n",
        "\n",
        "  # Setting embedding layer to non-trainable so that embedding matrix won't get updated\n",
        "  model.layers[2].set_weights([embedding_matrix])\n",
        "  model.layers[2].trainable = False\n",
        "\n",
        "  return model"
      ],
      "execution_count": null,
      "outputs": []
    },
    {
      "cell_type": "code",
      "metadata": {
        "id": "Q_Z_2s28Vdx_",
        "colab_type": "code",
        "colab": {}
      },
      "source": [
        "model = create_model()\n",
        "#model.summary()"
      ],
      "execution_count": null,
      "outputs": []
    },
    {
      "cell_type": "code",
      "metadata": {
        "id": "aDMEJNedg96U",
        "colab_type": "code",
        "colab": {
          "base_uri": "https://localhost:8080/",
          "height": 34
        },
        "outputId": "4e466e53-e3f8-430c-b0c5-8c9203d8921e"
      },
      "source": [
        "samples_per_epoch = 0\n",
        "for ca in all_train_captions:\n",
        "    samples_per_epoch += len(ca.split())-1\n",
        "\n",
        "samples_per_epoch"
      ],
      "execution_count": null,
      "outputs": [
        {
          "output_type": "execute_result",
          "data": {
            "text/plain": [
              "306404"
            ]
          },
          "metadata": {
            "tags": []
          },
          "execution_count": 34
        }
      ]
    },
    {
      "cell_type": "code",
      "metadata": {
        "id": "KC4cbruSjYUl",
        "colab_type": "code",
        "colab": {
          "base_uri": "https://localhost:8080/",
          "height": 34
        },
        "outputId": "933d6377-e96a-4b5b-e2b2-5cbf3e7cc04b"
      },
      "source": [
        "val_samples_per_epoch = 0\n",
        "for key, caps in val_desc.items():\n",
        "\n",
        "  for ca in caps:\n",
        "\n",
        "    val_samples_per_epoch += len(ca.split())\n",
        "\n",
        "val_samples_per_epoch"
      ],
      "execution_count": null,
      "outputs": [
        {
          "output_type": "execute_result",
          "data": {
            "text/plain": [
              "46622"
            ]
          },
          "metadata": {
            "tags": []
          },
          "execution_count": 35
        }
      ]
    },
    {
      "cell_type": "code",
      "metadata": {
        "id": "hFDbwcaU0d0R",
        "colab_type": "code",
        "colab": {}
      },
      "source": [
        "del model"
      ],
      "execution_count": null,
      "outputs": []
    },
    {
      "cell_type": "code",
      "metadata": {
        "id": "xmqTgvpdxU5d",
        "colab_type": "code",
        "colab": {}
      },
      "source": [
        "model.load_weights('/content/drive/My Drive/Image Captioning Data/mc.ckpt')"
      ],
      "execution_count": null,
      "outputs": []
    },
    {
      "cell_type": "code",
      "metadata": {
        "id": "r5EYkXPZQ10p",
        "colab_type": "code",
        "colab": {}
      },
      "source": [
        "model = load_model('/content/drive/My Drive/Image Captioning Data/Model Weights/model_0.8_0.8_2')"
      ],
      "execution_count": null,
      "outputs": []
    },
    {
      "cell_type": "code",
      "metadata": {
        "id": "ePdme2Yr0h8D",
        "colab_type": "code",
        "colab": {
          "base_uri": "https://localhost:8080/",
          "height": 34
        },
        "outputId": "1d04c21c-ffc7-476a-f99f-03d012af1ac0"
      },
      "source": [
        "len(model.get_weights()[0][1])"
      ],
      "execution_count": null,
      "outputs": [
        {
          "output_type": "execute_result",
          "data": {
            "text/plain": [
              "200"
            ]
          },
          "metadata": {
            "tags": []
          },
          "execution_count": 85
        }
      ]
    },
    {
      "cell_type": "code",
      "metadata": {
        "id": "Ikd_EQePwCAi",
        "colab_type": "code",
        "colab": {}
      },
      "source": [
        "model.summary()"
      ],
      "execution_count": null,
      "outputs": []
    },
    {
      "cell_type": "code",
      "metadata": {
        "id": "YqAypKBHSng8",
        "colab_type": "code",
        "colab": {}
      },
      "source": [
        "model.compile(loss='categorical_crossentropy', optimizer='adam')\n",
        "number_pics_per_bath = 128\n",
        "steps = samples_per_epoch//number_pics_per_bath\n",
        "val_steps = val_samples_per_epoch//number_pics_per_bath"
      ],
      "execution_count": null,
      "outputs": []
    },
    {
      "cell_type": "code",
      "metadata": {
        "id": "Z8eRT-3Eakwq",
        "colab_type": "code",
        "colab": {
          "base_uri": "https://localhost:8080/",
          "height": 34
        },
        "outputId": "3e00793a-305e-4638-c764-aebf19e710f6"
      },
      "source": [
        "steps, val_steps"
      ],
      "execution_count": null,
      "outputs": [
        {
          "output_type": "execute_result",
          "data": {
            "text/plain": [
              "(2393, 364)"
            ]
          },
          "metadata": {
            "tags": []
          },
          "execution_count": 39
        }
      ]
    },
    {
      "cell_type": "code",
      "metadata": {
        "id": "ipW9wLCte9CJ",
        "colab_type": "code",
        "colab": {}
      },
      "source": [
        "from keras.callbacks import ModelCheckpoint\n",
        "checkpoint_filepath = '/content/drive/My Drive/Image Captioning Data/mc.ckpt'\n",
        "model_checkpoint_callback = ModelCheckpoint(\n",
        "    filepath=checkpoint_filepath,\n",
        "    save_weights_only=True,\n",
        "    save_best_only=False)"
      ],
      "execution_count": null,
      "outputs": []
    },
    {
      "cell_type": "code",
      "metadata": {
        "id": "Sq10Zw_VSp7S",
        "colab_type": "code",
        "colab": {
          "base_uri": "https://localhost:8080/",
          "height": 34
        },
        "outputId": "56276e27-bd3d-4cd6-863a-cfcedf143987"
      },
      "source": [
        "# This function keeps the initial learning rate for the first ten epochs  \n",
        "# and decreases it exponentially after that.  \n",
        "def scheduler(epoch, lr):\n",
        "    if epoch < 10:\n",
        "        return lr\n",
        "    else:\n",
        "        return lr * tf.math.exp(-0.10)\n",
        "\n",
        "callback = tf.keras.callbacks.LearningRateScheduler(scheduler)\n",
        "\n",
        "round(model.optimizer.lr.numpy(), 5)"
      ],
      "execution_count": null,
      "outputs": [
        {
          "output_type": "execute_result",
          "data": {
            "text/plain": [
              "0.001"
            ]
          },
          "metadata": {
            "tags": []
          },
          "execution_count": 41
        }
      ]
    },
    {
      "cell_type": "code",
      "metadata": {
        "id": "6YApte81SsWq",
        "colab_type": "code",
        "colab": {}
      },
      "source": [
        "train_gen = data_generator(train_desc, train_features, word_to_ix, max_length, number_pics_per_bath)\n",
        "val_gen = data_generator(val_desc, val_features, word_to_ix, max_length, number_pics_per_bath)"
      ],
      "execution_count": null,
      "outputs": []
    },
    {
      "cell_type": "code",
      "metadata": {
        "id": "ZfkSTuNzSyqT",
        "colab_type": "code",
        "colab": {
          "base_uri": "https://localhost:8080/",
          "height": 70
        },
        "outputId": "1086eaaa-2895-4e76-a0dc-a692bf3241c3"
      },
      "source": [
        "model.fit(train_gen, epochs=1, steps_per_epoch=steps, verbose=1, validation_data=val_gen, validation_steps=val_steps, \n",
        "                    callbacks=[model_checkpoint_callback])\n",
        "#model.save('/content/drive/My Drive/Image Captioning Data/Model Weights/model_cp.ckpt')"
      ],
      "execution_count": null,
      "outputs": [
        {
          "output_type": "stream",
          "text": [
            "Epoch 1/1\n",
            "2393/2393 [==============================] - 2049s 856ms/step - loss: 3.4469 - val_loss: 4.3964\n"
          ],
          "name": "stdout"
        },
        {
          "output_type": "execute_result",
          "data": {
            "text/plain": [
              "<keras.callbacks.callbacks.History at 0x7f043a9a75f8>"
            ]
          },
          "metadata": {
            "tags": []
          },
          "execution_count": 43
        }
      ]
    },
    {
      "cell_type": "code",
      "metadata": {
        "id": "5Pw7KD6okrFz",
        "colab_type": "code",
        "colab": {}
      },
      "source": [
        "pickle.dump(model, open('/content/drive/My Drive/Image Captioning Data/Model Weights/model_ppt.pkl', 'wb'))"
      ],
      "execution_count": null,
      "outputs": []
    },
    {
      "cell_type": "code",
      "metadata": {
        "id": "0yl0-z-asebx",
        "colab_type": "code",
        "colab": {}
      },
      "source": [
        "model = load(open('/content/drive/My Drive/Image Captioning Data/Model Weights/model_ppt.pkl', 'rb'))"
      ],
      "execution_count": null,
      "outputs": []
    },
    {
      "cell_type": "code",
      "metadata": {
        "id": "E5BafAcDuJKw",
        "colab_type": "code",
        "colab": {
          "base_uri": "https://localhost:8080/",
          "height": 34
        },
        "outputId": "97d83163-0886-4395-a0da-e176a8e90431"
      },
      "source": [
        "# serialize model to JSON\n",
        "model_json = model.to_json()\n",
        "with open(\"/content/drive/My Drive/Image Captioning Data/Model Weights/json_file2.json\", \"w\") as json_file:\n",
        "    json_file.write(model_json)\n",
        "# serialize weights to HDF5\n",
        "model.save_weights(\"/content/drive/My Drive/Image Captioning Data/Model Weights/model_json2.h5\")\n",
        "print(\"Saved model to disk\")\n",
        " "
      ],
      "execution_count": null,
      "outputs": [
        {
          "output_type": "stream",
          "text": [
            "Saved model to disk\n"
          ],
          "name": "stdout"
        }
      ]
    },
    {
      "cell_type": "code",
      "metadata": {
        "id": "WAY9MHFSFCsf",
        "colab_type": "code",
        "colab": {
          "base_uri": "https://localhost:8080/",
          "height": 34
        },
        "outputId": "82ae64ac-7fe4-4868-cd59-0cbf6116f82e"
      },
      "source": [
        "# load json and create model\n",
        "\n",
        "json_file = open('/content/drive/My Drive/Image Captioning Data/Model Weights/json_file2.json', 'r')\n",
        "loaded_model_json = json_file.read()\n",
        "json_file.close()\n",
        "model = model_from_json(loaded_model_json)\n",
        "\n",
        "# load weights into new model\n",
        "\n",
        "model.load_weights(\"/content/drive/My Drive/Image Captioning Data/Model Weights/model_json2.h5\")\n",
        "print(\"Loaded model from disk\")"
      ],
      "execution_count": null,
      "outputs": [
        {
          "output_type": "stream",
          "text": [
            "Loaded model from disk\n"
          ],
          "name": "stdout"
        }
      ]
    },
    {
      "cell_type": "code",
      "metadata": {
        "id": "IPVHJ2IXKaWd",
        "colab_type": "code",
        "colab": {
          "base_uri": "https://localhost:8080/",
          "height": 52
        },
        "outputId": "9f300d9f-d11e-4a9c-bda3-b12b43405c40"
      },
      "source": [
        "model.fit_generator(train_gen, epochs=1, steps_per_epoch=steps, verbose=1, validation_data=val_gen, \n",
        "                           validation_steps=val_steps, callbacks=[callback])\n",
        "model.save('/content/drive/My Drive/Image Captioning Data/Model Weights/model_0.8_0.8_2')"
      ],
      "execution_count": null,
      "outputs": [
        {
          "output_type": "stream",
          "text": [
            "Epoch 1/1\n",
            "2393/2393 [==============================] - 1198s 500ms/step - loss: 3.9223 - val_loss: 4.6726\n"
          ],
          "name": "stdout"
        }
      ]
    },
    {
      "cell_type": "code",
      "metadata": {
        "id": "onzFurPV3ui2",
        "colab_type": "code",
        "colab": {
          "base_uri": "https://localhost:8080/",
          "height": 52
        },
        "outputId": "7b884ab5-dc69-49c1-cc66-a5a226b4bbe6"
      },
      "source": [
        "hist = model.fit_generator(train_gen, epochs=1, steps_per_epoch=steps, verbose=1, validation_data=val_gen, \n",
        "                           validation_steps=val_steps, callbacks=[callback])\n",
        "model.save('/content/drive/My Drive/Image Captioning Data/Model Weights/model_0.8_0.8_3.h5')"
      ],
      "execution_count": null,
      "outputs": [
        {
          "output_type": "stream",
          "text": [
            "Epoch 1/1\n",
            "2393/2393 [==============================] - 2124s 887ms/step - loss: 3.2056 - val_loss: 5.1948\n"
          ],
          "name": "stdout"
        }
      ]
    },
    {
      "cell_type": "code",
      "metadata": {
        "id": "J2oYuTWp_8Ik",
        "colab_type": "code",
        "colab": {
          "base_uri": "https://localhost:8080/",
          "height": 52
        },
        "outputId": "29c22d1f-31b4-42ec-a9ae-5abd5ba6b15c"
      },
      "source": [
        "hist = model.fit_generator(train_gen, epochs=1, steps_per_epoch=steps, verbose=1, validation_data=val_gen, \n",
        "                           validation_steps=val_steps, callbacks=[callback])\n",
        "model.save('/content/drive/My Drive/Image Captioning Data/Model Weights/model_0.8_0.8_4.h5')"
      ],
      "execution_count": null,
      "outputs": [
        {
          "output_type": "stream",
          "text": [
            "Epoch 1/1\n",
            "2393/2393 [==============================] - 2139s 894ms/step - loss: 3.0237 - val_loss: 5.4069\n"
          ],
          "name": "stdout"
        }
      ]
    },
    {
      "cell_type": "code",
      "metadata": {
        "id": "x7hUTZ61kXV2",
        "colab_type": "code",
        "colab": {
          "base_uri": "https://localhost:8080/",
          "height": 52
        },
        "outputId": "f79ac651-aaf1-4634-e88a-0afc6d8bd0a8"
      },
      "source": [
        "hist = model.fit_generator(train_gen, epochs=1, steps_per_epoch=steps, verbose=1, validation_data=val_gen, \n",
        "                           validation_steps=val_steps, callbacks=[callback])\n",
        "model.save('/content/drive/My Drive/Image Captioning Data/Model Weights/model_0.8_0.8_5.h5')"
      ],
      "execution_count": null,
      "outputs": [
        {
          "output_type": "stream",
          "text": [
            "Epoch 1/1\n",
            "2393/2393 [==============================] - 2144s 896ms/step - loss: 2.9078 - val_loss: 5.3189\n"
          ],
          "name": "stdout"
        }
      ]
    },
    {
      "cell_type": "code",
      "metadata": {
        "id": "Rqp2yHEbyLtv",
        "colab_type": "code",
        "colab": {}
      },
      "source": [
        "hist = model.fit_generator(train_gen, epochs=1, steps_per_epoch=steps, verbose=1, validation_data=val_gen, \n",
        "                           validation_steps=val_steps, callbacks=[callback])\n",
        "model.save('/content/drive/My Drive/Image Captioning Data/Model Weights/model_0.8_0.8_6.h5')"
      ],
      "execution_count": null,
      "outputs": []
    },
    {
      "cell_type": "code",
      "metadata": {
        "id": "bVhNjNP40W-P",
        "colab_type": "code",
        "colab": {}
      },
      "source": [
        "model.load_weights('/content/drive/My Drive/Image Captioning Data/Model Weights/model_0.8_0.8_4.h5')"
      ],
      "execution_count": null,
      "outputs": []
    },
    {
      "cell_type": "code",
      "metadata": {
        "id": "OLl0btkLJRM9",
        "colab_type": "code",
        "colab": {
          "base_uri": "https://localhost:8080/",
          "height": 34
        },
        "outputId": "6ed280e3-70f1-439a-d202-d8ae7579d0a4"
      },
      "source": [
        "round(model.optimizer.learning_rate.numpy(), 5)"
      ],
      "execution_count": null,
      "outputs": [
        {
          "output_type": "execute_result",
          "data": {
            "text/plain": [
              "0.001"
            ]
          },
          "metadata": {
            "tags": []
          },
          "execution_count": 42
        }
      ]
    },
    {
      "cell_type": "code",
      "metadata": {
        "id": "7Kp8y5wNS8fK",
        "colab_type": "code",
        "colab": {}
      },
      "source": [
        "opt = keras.optimizers.Adam(learning_rate=0.0001)\n",
        "model.compile(loss='categorical_crossentropy', optimizer=opt)"
      ],
      "execution_count": null,
      "outputs": []
    },
    {
      "cell_type": "code",
      "metadata": {
        "id": "sAH9Suh1g2Po",
        "colab_type": "code",
        "colab": {
          "base_uri": "https://localhost:8080/",
          "height": 52
        },
        "outputId": "d8a1de85-3cd6-4d24-fdc7-7766f34a6235"
      },
      "source": [
        "hist = model.fit_generator(train_gen, epochs=1, steps_per_epoch=steps, verbose=1, validation_data=val_gen, \n",
        "                           validation_steps=val_steps)\n",
        "#model.save('/content/drive/My Drive/Image Captioning Data/Model Weights/model_' +  str(i) + '.h5')"
      ],
      "execution_count": null,
      "outputs": [
        {
          "output_type": "stream",
          "text": [
            "Epoch 1/1\n",
            "2393/2393 [==============================] - 2128s 889ms/step - loss: 1.8885 - val_loss: 5.3940\n"
          ],
          "name": "stdout"
        }
      ]
    },
    {
      "cell_type": "code",
      "metadata": {
        "id": "DeabOzy9SPVr",
        "colab_type": "code",
        "colab": {
          "base_uri": "https://localhost:8080/",
          "height": 107
        },
        "outputId": "c610bacd-25ff-4246-a6ca-19abb1b38163"
      },
      "source": [
        "hist = model.fit_generator(train_gen, epochs=1, steps_per_epoch=steps, verbose=1, validation_data=val_gen, \n",
        "                           validation_steps=val_steps)\n",
        "model.save('/content/drive/My Drive/Image Captioning Data/Model Weights/model_' + '.h5')"
      ],
      "execution_count": null,
      "outputs": [
        {
          "output_type": "stream",
          "text": [
            "Epoch 1/1\n",
            "2393/2393 [==============================] - 2128s 889ms/step - loss: 1.8622 - val_loss: 5.2346\n"
          ],
          "name": "stdout"
        },
        {
          "output_type": "stream",
          "text": [
            "/usr/local/lib/python3.6/dist-packages/keras/engine/saving.py:165: UserWarning: TensorFlow optimizers do not make it possible to access optimizer attributes or optimizer state after instantiation. As a result, we cannot save the optimizer as part of the model save file.You will have to compile your model again after loading it. Prefer using a Keras optimizer instead (see keras.io/optimizers).\n",
            "  'TensorFlow optimizers do not '\n"
          ],
          "name": "stderr"
        }
      ]
    },
    {
      "cell_type": "code",
      "metadata": {
        "id": "cS2Ph0e8zbnr",
        "colab_type": "code",
        "colab": {}
      },
      "source": [
        "from matplotlib import pyplot\n",
        "pyplot.plot(hist.history['loss'])\n",
        "pyplot.plot(hist.history['val_loss'])\n",
        "pyplot.title('model train vs validation loss')\n",
        "pyplot.ylabel('loss')\n",
        "pyplot.xlabel('epoch')\n",
        "pyplot.legend(['train', 'validation'], loc='upper right')\n",
        "pyplot.show()"
      ],
      "execution_count": null,
      "outputs": []
    },
    {
      "cell_type": "markdown",
      "metadata": {
        "id": "crxiZWbxow90",
        "colab_type": "text"
      },
      "source": [
        "## **Prediction**"
      ]
    },
    {
      "cell_type": "code",
      "metadata": {
        "id": "Pet4-8PDgHUk",
        "colab_type": "code",
        "colab": {}
      },
      "source": [
        "# Below path contains all the images\n",
        "images = '/content/drive/My Drive/Image Captioning Data/Flicker8k_Dataset/'\n",
        "# Create a list of all image names in the directory\n",
        "img = glob.glob(images + '*.jpg')"
      ],
      "execution_count": null,
      "outputs": []
    },
    {
      "cell_type": "code",
      "metadata": {
        "id": "fqClV9qqgLEk",
        "colab_type": "code",
        "colab": {}
      },
      "source": [
        "def greedySearch(photo, model):\n",
        "    in_text = 'sos'\n",
        "    for i in range(max_length):\n",
        "        sequence = [word_to_ix[w] for w in in_text.split() if w in word_to_ix]\n",
        "        sequence = pad_sequences([sequence], maxlen=max_length)\n",
        "        yhat = model.predict([photo,sequence], verbose=0)\n",
        "        yhat = np.argmax(yhat)\n",
        "        word = ix_to_word[yhat]\n",
        "        in_text += ' ' + word\n",
        "        if word == 'eos':\n",
        "            break\n",
        "    final = in_text.split()\n",
        "    final = final[1:-1]\n",
        "    final = ' '.join(final)\n",
        "    return final"
      ],
      "execution_count": null,
      "outputs": []
    },
    {
      "cell_type": "code",
      "metadata": {
        "id": "6ugYtk_x6sxC",
        "colab_type": "code",
        "colab": {}
      },
      "source": [
        "def beam_search(image, model, beam_index = 3):\n",
        "    start = [word_to_ix['sos']]\n",
        "    \n",
        "    # start_word[0][0] = index of the starting word\n",
        "    # start_word[0][1] = probability of the word predicted\n",
        "    start_word = [[start, 0.0]]\n",
        "    \n",
        "    while len(start_word[0][0]) < max_length:\n",
        "        temp = []\n",
        "        for s in start_word:\n",
        "            par_caps = pad_sequences([s[0]], maxlen=max_length)\n",
        "            #e = encoding_test[image[len(images):]]\n",
        "            preds = model.predict([image, par_caps])\n",
        "            \n",
        "            # Getting the top <beam_index>(n) predictions\n",
        "            word_preds = np.argsort(preds[0])[-beam_index:]\n",
        "            \n",
        "            # creating a new list so as to put them via the model again\n",
        "            for w in word_preds:\n",
        "                next_cap, prob = s[0][:], s[1]\n",
        "                next_cap.append(w)\n",
        "                prob += preds[0][w]\n",
        "                temp.append([next_cap, prob])\n",
        "                    \n",
        "        start_word = temp\n",
        "        # Sorting according to the probabilities\n",
        "        start_word = sorted(start_word, reverse=False, key=lambda l: l[1])\n",
        "        # Getting the top words\n",
        "        start_word = start_word[-beam_index:]\n",
        "    \n",
        "    start_word = start_word[-1][0]\n",
        "    intermediate_caption = [ix_to_word[i] for i in start_word]\n",
        "\n",
        "    final_caption = []\n",
        "    \n",
        "    for i in intermediate_caption:\n",
        "        if i != 'eos':\n",
        "            final_caption.append(i)\n",
        "        else:\n",
        "            break\n",
        "    \n",
        "    final_caption = ' '.join(final_caption[1:])\n",
        "    return final_caption"
      ],
      "execution_count": null,
      "outputs": []
    },
    {
      "cell_type": "code",
      "metadata": {
        "id": "9cV2sM5A6sjm",
        "colab_type": "code",
        "colab": {}
      },
      "source": [
        "for z in range(6):\n",
        "  \n",
        "  pic = list(encoding_test.keys())[z]\n",
        "  image = encoding_test[pic].reshape((1,2048))\n",
        "  x=plt.imread(images+pic+'.jpg')\n",
        "  plt.imshow(x)\n",
        "  plt.show()\n",
        "  print(\"Generated Caption by greedy search, image \", z, \" : \", greedySearch(image, model))\n",
        "  print(\"Generated Caption by beam search, image \", z, \" : \", beam_search(image, model))\n",
        "  print(\"Generated Caption by beam search with k = 5, image \", z, \" : \", beam_search(image, model, 5))\n",
        "  print(\"Generated Caption by beam search with k = 7, image \", z, \" : \", beam_search(image, model, 7))\n",
        "\n",
        "# Good Predictions: z = 4, 6, 14, 18, 23, 28, 62\n",
        "# Bad Predictions: z = 10, 11, 12, 17, 27, 32, 36"
      ],
      "execution_count": null,
      "outputs": []
    },
    {
      "cell_type": "markdown",
      "metadata": {
        "id": "2x9RhdTGxiru",
        "colab_type": "text"
      },
      "source": [
        "# **Calculating Bleu Score**"
      ]
    },
    {
      "cell_type": "code",
      "metadata": {
        "id": "ZYD2LIu5vXEN",
        "colab_type": "code",
        "colab": {}
      },
      "source": [
        "candidates = []\n",
        "for z in range(1000):\n",
        "  pic = list(encoding_test.keys())[z]\n",
        "  img = encoding_test[pic]\n",
        "  image = encoding_test[pic].reshape((1,2048))\n",
        "  candidates += [beam_search(image, model).split()]\n",
        "\n",
        "  #print(\"Generated Caption: \", z, \" : \", greedySearch(image))\n",
        "# Good Predictions: z = 4, 6, 14, 18, 23, 28, 62\n",
        "# Very Bad Predictions: z = 10, 11, 12, 17, 27, 32, 36"
      ],
      "execution_count": null,
      "outputs": []
    },
    {
      "cell_type": "code",
      "metadata": {
        "id": "cWjWoVPmtIES",
        "colab_type": "code",
        "colab": {}
      },
      "source": [
        "references = []\n",
        "for key, lis in test_desc.items():\n",
        "  \n",
        "  refs = []\n",
        "\n",
        "  for ref_text in test_desc[key]:\n",
        "\n",
        "    refs += [ref_text.split()]\n",
        "\n",
        "  references.append(refs)"
      ],
      "execution_count": null,
      "outputs": []
    },
    {
      "cell_type": "code",
      "metadata": {
        "id": "LRoiAIFTu8tp",
        "colab_type": "code",
        "colab": {
          "base_uri": "https://localhost:8080/",
          "height": 34
        },
        "outputId": "c67e31cd-3362-467b-a13f-3b96d3ca80bf"
      },
      "source": [
        "len(candidates)"
      ],
      "execution_count": null,
      "outputs": [
        {
          "output_type": "execute_result",
          "data": {
            "text/plain": [
              "1000"
            ]
          },
          "metadata": {
            "tags": []
          },
          "execution_count": 141
        }
      ]
    },
    {
      "cell_type": "code",
      "metadata": {
        "id": "SJj4r99DsirN",
        "colab_type": "code",
        "colab": {
          "base_uri": "https://localhost:8080/",
          "height": 34
        },
        "outputId": "a1f0a562-ad45-459d-db02-eb1b9dfea7c5"
      },
      "source": [
        "# Calculating Corpus Bleu Score for beam search with k = 5\n",
        "from nltk.translate.bleu_score import sentence_bleu, corpus_bleu\n",
        "\n",
        "corpus_bleu(references, candidates)\n",
        "# 0.07211444790001562"
      ],
      "execution_count": null,
      "outputs": [
        {
          "output_type": "execute_result",
          "data": {
            "text/plain": [
              "0.09835941403505533"
            ]
          },
          "metadata": {
            "tags": []
          },
          "execution_count": 144
        }
      ]
    },
    {
      "cell_type": "code",
      "metadata": {
        "id": "bMfZxvTsfOXT",
        "colab_type": "code",
        "colab": {
          "base_uri": "https://localhost:8080/",
          "height": 34
        },
        "outputId": "1cd5986c-9c10-4acc-b5df-561d298929af"
      },
      "source": [
        "# Calculating Corpus Bleu Score for beam search with k = 3\n",
        "from nltk.translate.bleu_score import sentence_bleu, corpus_bleu\n",
        "\n",
        "corpus_bleu(references, candidates)"
      ],
      "execution_count": null,
      "outputs": [
        {
          "output_type": "execute_result",
          "data": {
            "text/plain": [
              "0.08506385303403152"
            ]
          },
          "metadata": {
            "tags": []
          },
          "execution_count": 165
        }
      ]
    },
    {
      "cell_type": "code",
      "metadata": {
        "id": "UpoIGyQsw09F",
        "colab_type": "code",
        "colab": {
          "base_uri": "https://localhost:8080/",
          "height": 34
        },
        "outputId": "5f4afdf3-b73e-4034-e60e-b42301ce9af0"
      },
      "source": [
        "# Calculating Corpus Bleu Score\n",
        "from nltk.translate.bleu_score import sentence_bleu, corpus_bleu\n",
        "\n",
        "corpus_bleu(references, candidates)"
      ],
      "execution_count": null,
      "outputs": [
        {
          "output_type": "execute_result",
          "data": {
            "text/plain": [
              "0.060304112271025216"
            ]
          },
          "metadata": {
            "tags": []
          },
          "execution_count": 103
        }
      ]
    },
    {
      "cell_type": "code",
      "metadata": {
        "id": "1uu0llDjgcR1",
        "colab_type": "code",
        "colab": {
          "base_uri": "https://localhost:8080/",
          "height": 161
        },
        "outputId": "d934beda-635c-4293-a4f7-572a7b96d8e0"
      },
      "source": [
        "# 4-gram cumulative BLEU\n",
        "from nltk.translate.bleu_score import sentence_bleu\n",
        "reference = [ref.split() for ref in ref_text]\n",
        "candidate = greedySearch(image).split()\n",
        "print(reference)\n",
        "print(candidate)\n",
        "score = sentence_bleu(reference, candidate)\n",
        "print(score)"
      ],
      "execution_count": null,
      "outputs": [
        {
          "output_type": "stream",
          "text": [
            "[['brown', 'dog', 'running'], ['brown', 'dog', 'running', 'over', 'grass'], ['brown', 'dog', 'with', 'its', 'front', 'paws', 'off', 'the', 'ground', 'on', 'grassy', 'surface', 'near', 'red', 'and', 'purple', 'flowers'], ['dog', 'runs', 'across', 'grassy', 'lawn', 'near', 'some', 'flowers'], ['yellow', 'dog', 'is', 'playing', 'in', 'grassy', 'area', 'near', 'flowers']]\n",
            "['dog', 'is', 'running', 'through', 'the', 'grass']\n",
            "0.6389431042462724\n"
          ],
          "name": "stdout"
        },
        {
          "output_type": "stream",
          "text": [
            "/usr/local/lib/python3.6/dist-packages/nltk/translate/bleu_score.py:490: UserWarning: \n",
            "Corpus/Sentence contains 0 counts of 3-gram overlaps.\n",
            "BLEU scores might be undesirable; use SmoothingFunction().\n",
            "  warnings.warn(_msg)\n"
          ],
          "name": "stderr"
        }
      ]
    },
    {
      "cell_type": "code",
      "metadata": {
        "id": "ohmpyXSZqchE",
        "colab_type": "code",
        "colab": {}
      },
      "source": [
        "model2.summary()"
      ],
      "execution_count": null,
      "outputs": []
    },
    {
      "cell_type": "markdown",
      "metadata": {
        "id": "OzzExZ8TB4Xm",
        "colab_type": "text"
      },
      "source": [
        "# **Testing**"
      ]
    },
    {
      "cell_type": "code",
      "metadata": {
        "id": "ZeYOKlysB8ER",
        "colab_type": "code",
        "colab": {}
      },
      "source": [
        "from keras.preprocessing import image"
      ],
      "execution_count": null,
      "outputs": []
    },
    {
      "cell_type": "code",
      "metadata": {
        "id": "a1AQGrTvGt8Q",
        "colab_type": "code",
        "colab": {}
      },
      "source": [
        "### It will take a lot of time to run (approx. 1 - 2 hrs)\n",
        "# extract features from each photo in the directory\n",
        "\n",
        "def extract_test_img_features(filepath):\n",
        "    # load the model\n",
        "    in_layer = Input(shape=(229, 229, 3))\n",
        "    inc_model = InceptionV3(weights='imagenet',input_tensor=in_layer)\n",
        "    model_new = Model(inc_model.input, inc_model.layers[-2].output)\n",
        "    #print(model.summary())\n",
        "    # extract features from each photo\n",
        "    \n",
        "        \n",
        "    img = image.load_img(filepath, target_size=(229, 229))\n",
        "    img = image.img_to_array(img)\n",
        "\t\t# reshape data for the model\n",
        "    img = img.reshape((1, img.shape[0], img.shape[1], img.shape[2]))\n",
        "\t\t# prepare the image for the inception model\n",
        "    img = preprocess_input(img)\n",
        "\t\t# get features\n",
        "    feature = model_new.predict(img, verbose=0)\n",
        "    # Reshaping feature from (1, 2048) to (2048, )\n",
        "    feature = np.reshape(feature, feature.shape[1])\n",
        "        \n",
        "    return feature"
      ],
      "execution_count": null,
      "outputs": []
    },
    {
      "cell_type": "code",
      "metadata": {
        "id": "G3GxmDWVIx9w",
        "colab_type": "code",
        "colab": {}
      },
      "source": [
        "def printing_img_desc(filepath, model):\n",
        "\n",
        "  x=plt.imread(filepath)\n",
        "  plt.imshow(x)\n",
        "  plt.show()\n",
        "\n",
        "  fea = extract_test_img_features(filepath)\n",
        "  image = fea.reshape((1,2048))\n",
        "  \n",
        "  print(\"Generated Caption by greedy search : \", greedySearch(image, model))\n",
        "  print(\"Generated Caption by beam search : \", beam_search(image, model))\n",
        "  print(\"Generated Caption by beam search with k = 5 : \", beam_search(image, model, 5))\n",
        "  print(\"Generated Caption by beam search with k = 7 : \", beam_search(image, model, 7))\n"
      ],
      "execution_count": null,
      "outputs": []
    },
    {
      "cell_type": "code",
      "metadata": {
        "id": "s2GHCGSTeh8K",
        "colab_type": "code",
        "colab": {
          "base_uri": "https://localhost:8080/",
          "height": 654
        },
        "outputId": "010e6747-5af8-4612-d6d0-45370bacd4e0"
      },
      "source": [
        "printing_img_desc('/content/drive/My Drive/Image Captioning Data/DSC_1858.jpg', model)\n",
        "printing_img_desc('/content/drive/My Drive/Image Captioning Data/img.jpg', model)"
      ],
      "execution_count": null,
      "outputs": [
        {
          "output_type": "display_data",
          "data": {
            "image/png": "[encoded data removed]",
            "text/plain": [
              "<Figure size 432x288 with 1 Axes>"
            ]
          },
          "metadata": {
            "tags": [],
            "needs_background": "light"
          }
        },
        {
          "output_type": "stream",
          "text": [
            "Generated Caption by greedy search :  windy measured shocked sled measured floored sled sled sled sled sled sled sled sled sled sled sled sled sled sled sled sled sled sled sled sled sled sled sled sled sled sled sled\n",
            "Generated Caption by beam search :  windy surfer sled sled sled sled sled sled sled sled sled sled sled sled sled sled sled sled sled sled sled sled sled sled sled sled sled sled sled sled sled sled sled\n",
            "Generated Caption by beam search with k = 5 :  windy surfer sled sled sled sled sled sled sled sled sled sled sled sled sled sled sled sled sled sled sled sled sled sled sled sled sled sled sled sled sled sled sled\n",
            "Generated Caption by beam search with k = 7 :  windy surfer sled sled sled sled sled sled sled sled sled sled sled sled sled sled sled sled sled sled sled sled sled sled sled sled sled sled sled sled sled sled sled\n"
          ],
          "name": "stdout"
        },
        {
          "output_type": "display_data",
          "data": {
            "image/png": "[encoded data removed]",
            "text/plain": [
              "<Figure size 432x288 with 1 Axes>"
            ]
          },
          "metadata": {
            "tags": [],
            "needs_background": "light"
          }
        },
        {
          "output_type": "stream",
          "text": [
            "Generated Caption by greedy search :  sled stopaction windy poking celebrating pregnant language chickens prow pitcher scale measured carjack sled rippled jug propped sled sled sled sled sled sled sled sled sled sled sled sled sled sled sled sled\n",
            "Generated Caption by beam search :  stopaction windy poking chickens pregnant drips chickens prow pitcher scale measured sword sled sled sled sled sled sled sled sled sled sled sled sled sled sled sled sled sled sled sled sled sled\n",
            "Generated Caption by beam search with k = 5 :  windy living payer cleaned sled sled sled sled sled sled sled sled sled sled sled sled sled sled sled sled sled sled sled sled sled sled sled sled sled sled sled sled sled\n",
            "Generated Caption by beam search with k = 7 :  windy living payer cleaned sled sled sled sled sled sled sled sled sled sled sled sled sled sled sled sled sled sled sled sled sled sled sled sled sled sled sled sled sled\n"
          ],
          "name": "stdout"
        }
      ]
    },
    {
      "cell_type": "code",
      "metadata": {
        "id": "2H7Cclitu6YN",
        "colab_type": "code",
        "colab": {}
      },
      "source": [
        ""
      ],
      "execution_count": null,
      "outputs": []
    }
  ]
}